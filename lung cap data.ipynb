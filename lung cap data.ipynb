{
 "cells": [
  {
   "cell_type": "code",
   "execution_count": 3,
   "id": "1903358b-c679-438f-a0e1-c71de7d684a3",
   "metadata": {},
   "outputs": [],
   "source": [
    "import pandas as pd"
   ]
  },
  {
   "cell_type": "code",
   "execution_count": 4,
   "id": "32b34e21-e244-4766-995a-1d4aae596c59",
   "metadata": {},
   "outputs": [],
   "source": [
    "lcn=pd.read_csv(r\"C:\\Users\\Vaibhav A. Ghorpade\\Desktop\\dataset\\LungCap.csv\")"
   ]
  },
  {
   "cell_type": "code",
   "execution_count": 5,
   "id": "d47fd4ad-fea0-4b0f-939e-8097b44cfc15",
   "metadata": {},
   "outputs": [
    {
     "data": {
      "text/html": [
       "<div>\n",
       "<style scoped>\n",
       "    .dataframe tbody tr th:only-of-type {\n",
       "        vertical-align: middle;\n",
       "    }\n",
       "\n",
       "    .dataframe tbody tr th {\n",
       "        vertical-align: top;\n",
       "    }\n",
       "\n",
       "    .dataframe thead th {\n",
       "        text-align: right;\n",
       "    }\n",
       "</style>\n",
       "<table border=\"1\" class=\"dataframe\">\n",
       "  <thead>\n",
       "    <tr style=\"text-align: right;\">\n",
       "      <th></th>\n",
       "      <th>LungCap</th>\n",
       "      <th>Age</th>\n",
       "      <th>Height</th>\n",
       "      <th>Smoke</th>\n",
       "      <th>Gender</th>\n",
       "      <th>Caesarean</th>\n",
       "    </tr>\n",
       "  </thead>\n",
       "  <tbody>\n",
       "    <tr>\n",
       "      <th>0</th>\n",
       "      <td>6.475</td>\n",
       "      <td>6</td>\n",
       "      <td>62.1</td>\n",
       "      <td>no</td>\n",
       "      <td>male</td>\n",
       "      <td>no</td>\n",
       "    </tr>\n",
       "    <tr>\n",
       "      <th>1</th>\n",
       "      <td>10.125</td>\n",
       "      <td>18</td>\n",
       "      <td>74.7</td>\n",
       "      <td>yes</td>\n",
       "      <td>female</td>\n",
       "      <td>no</td>\n",
       "    </tr>\n",
       "    <tr>\n",
       "      <th>2</th>\n",
       "      <td>9.550</td>\n",
       "      <td>16</td>\n",
       "      <td>69.7</td>\n",
       "      <td>no</td>\n",
       "      <td>female</td>\n",
       "      <td>yes</td>\n",
       "    </tr>\n",
       "    <tr>\n",
       "      <th>3</th>\n",
       "      <td>11.125</td>\n",
       "      <td>14</td>\n",
       "      <td>71.0</td>\n",
       "      <td>no</td>\n",
       "      <td>male</td>\n",
       "      <td>no</td>\n",
       "    </tr>\n",
       "    <tr>\n",
       "      <th>4</th>\n",
       "      <td>4.800</td>\n",
       "      <td>5</td>\n",
       "      <td>56.9</td>\n",
       "      <td>no</td>\n",
       "      <td>male</td>\n",
       "      <td>no</td>\n",
       "    </tr>\n",
       "  </tbody>\n",
       "</table>\n",
       "</div>"
      ],
      "text/plain": [
       "   LungCap  Age  Height Smoke  Gender Caesarean\n",
       "0    6.475    6    62.1    no    male        no\n",
       "1   10.125   18    74.7   yes  female        no\n",
       "2    9.550   16    69.7    no  female       yes\n",
       "3   11.125   14    71.0    no    male        no\n",
       "4    4.800    5    56.9    no    male        no"
      ]
     },
     "execution_count": 5,
     "metadata": {},
     "output_type": "execute_result"
    }
   ],
   "source": [
    "lcn.head()"
   ]
  },
  {
   "cell_type": "markdown",
   "id": "10351c58-b9a0-46e2-83d1-d28eb58f7fd4",
   "metadata": {},
   "source": [
    "Understand the problem statement/requirement\n"
   ]
  },
  {
   "cell_type": "markdown",
   "id": "07595009-606e-49e8-801c-bcbc25d94d49",
   "metadata": {},
   "source": [
    "To build the predictive model which can predict lung capacity"
   ]
  },
  {
   "cell_type": "code",
   "execution_count": 6,
   "id": "ed504b02-4919-4a60-af16-5d6e682f0195",
   "metadata": {},
   "outputs": [
    {
     "data": {
      "text/plain": [
       "LungCap      0\n",
       "Age          0\n",
       "Height       0\n",
       "Smoke        0\n",
       "Gender       0\n",
       "Caesarean    0\n",
       "dtype: int64"
      ]
     },
     "execution_count": 6,
     "metadata": {},
     "output_type": "execute_result"
    }
   ],
   "source": [
    "lcn.isnull().sum()"
   ]
  },
  {
   "cell_type": "code",
   "execution_count": 7,
   "id": "1bde9f09-3cad-43ed-8813-6b4090041c0b",
   "metadata": {},
   "outputs": [],
   "source": [
    "lcn.Smoke=lcn.Smoke.replace({\"no\":0,\"yes\":1})\n",
    "lcn.Gender=lcn.Gender.replace({\"female\":0,\"male\":1})\n",
    "lcn.Caesarean=lcn.Caesarean.replace({\"no\":0,\"yes\":1})"
   ]
  },
  {
   "cell_type": "code",
   "execution_count": 8,
   "id": "f2f6777e-bb11-41df-859e-b1af174f5837",
   "metadata": {},
   "outputs": [
    {
     "data": {
      "text/html": [
       "<div>\n",
       "<style scoped>\n",
       "    .dataframe tbody tr th:only-of-type {\n",
       "        vertical-align: middle;\n",
       "    }\n",
       "\n",
       "    .dataframe tbody tr th {\n",
       "        vertical-align: top;\n",
       "    }\n",
       "\n",
       "    .dataframe thead th {\n",
       "        text-align: right;\n",
       "    }\n",
       "</style>\n",
       "<table border=\"1\" class=\"dataframe\">\n",
       "  <thead>\n",
       "    <tr style=\"text-align: right;\">\n",
       "      <th></th>\n",
       "      <th>LungCap</th>\n",
       "      <th>Age</th>\n",
       "      <th>Height</th>\n",
       "      <th>Smoke</th>\n",
       "      <th>Gender</th>\n",
       "      <th>Caesarean</th>\n",
       "    </tr>\n",
       "  </thead>\n",
       "  <tbody>\n",
       "    <tr>\n",
       "      <th>0</th>\n",
       "      <td>6.475</td>\n",
       "      <td>6</td>\n",
       "      <td>62.1</td>\n",
       "      <td>0</td>\n",
       "      <td>1</td>\n",
       "      <td>0</td>\n",
       "    </tr>\n",
       "    <tr>\n",
       "      <th>1</th>\n",
       "      <td>10.125</td>\n",
       "      <td>18</td>\n",
       "      <td>74.7</td>\n",
       "      <td>1</td>\n",
       "      <td>0</td>\n",
       "      <td>0</td>\n",
       "    </tr>\n",
       "    <tr>\n",
       "      <th>2</th>\n",
       "      <td>9.550</td>\n",
       "      <td>16</td>\n",
       "      <td>69.7</td>\n",
       "      <td>0</td>\n",
       "      <td>0</td>\n",
       "      <td>1</td>\n",
       "    </tr>\n",
       "    <tr>\n",
       "      <th>3</th>\n",
       "      <td>11.125</td>\n",
       "      <td>14</td>\n",
       "      <td>71.0</td>\n",
       "      <td>0</td>\n",
       "      <td>1</td>\n",
       "      <td>0</td>\n",
       "    </tr>\n",
       "    <tr>\n",
       "      <th>4</th>\n",
       "      <td>4.800</td>\n",
       "      <td>5</td>\n",
       "      <td>56.9</td>\n",
       "      <td>0</td>\n",
       "      <td>1</td>\n",
       "      <td>0</td>\n",
       "    </tr>\n",
       "  </tbody>\n",
       "</table>\n",
       "</div>"
      ],
      "text/plain": [
       "   LungCap  Age  Height  Smoke  Gender  Caesarean\n",
       "0    6.475    6    62.1      0       1          0\n",
       "1   10.125   18    74.7      1       0          0\n",
       "2    9.550   16    69.7      0       0          1\n",
       "3   11.125   14    71.0      0       1          0\n",
       "4    4.800    5    56.9      0       1          0"
      ]
     },
     "execution_count": 8,
     "metadata": {},
     "output_type": "execute_result"
    }
   ],
   "source": [
    "lcn.head()"
   ]
  },
  {
   "cell_type": "code",
   "execution_count": 9,
   "id": "487b3730-170f-4f14-9978-a972459cd220",
   "metadata": {},
   "outputs": [],
   "source": [
    "#splitting the data into train and test data"
   ]
  },
  {
   "cell_type": "code",
   "execution_count": 10,
   "id": "d467a2d9-c639-4c4e-a584-2b710485d69d",
   "metadata": {},
   "outputs": [],
   "source": [
    "from sklearn.model_selection import train_test_split"
   ]
  },
  {
   "cell_type": "code",
   "execution_count": 11,
   "id": "9e7e4317-f6e9-44a5-be6b-1ddc72829a9d",
   "metadata": {},
   "outputs": [],
   "source": [
    "lcn_train,lcn_test=train_test_split(lcn,test_size=0.2)"
   ]
  },
  {
   "cell_type": "code",
   "execution_count": 12,
   "id": "7da6b789-03c6-442c-b07d-75ab2470a925",
   "metadata": {},
   "outputs": [],
   "source": [
    "lcn_train_x=lcn_train.iloc[: ,1::]\n",
    "lcn_test_x=lcn_test.iloc[: ,1::]"
   ]
  },
  {
   "cell_type": "code",
   "execution_count": 13,
   "id": "6a17a11e-608e-4e93-bf5c-d7ad32b26a35",
   "metadata": {},
   "outputs": [],
   "source": [
    "lcn_train_y=lcn_train.iloc[: ,0]\n",
    "lcn_test_y=lcn_test.iloc[: ,0]"
   ]
  },
  {
   "cell_type": "code",
   "execution_count": 14,
   "id": "5302530a-d8a2-4c58-8ad0-87815f334b6f",
   "metadata": {},
   "outputs": [],
   "source": [
    "#Model Building "
   ]
  },
  {
   "cell_type": "code",
   "execution_count": 15,
   "id": "498b0346-d793-489a-93dc-88177efb64a8",
   "metadata": {},
   "outputs": [],
   "source": [
    "#import the necessory function from sk learn\n",
    "#create a object of that function\n",
    "#run the fit function and model is created\n",
    "#run the prediction function( prediction is true)"
   ]
  },
  {
   "cell_type": "code",
   "execution_count": 16,
   "id": "cfa402ad-43f9-4505-8d92-db8a4629f7c9",
   "metadata": {},
   "outputs": [],
   "source": [
    "from sklearn.linear_model import LinearRegression"
   ]
  },
  {
   "cell_type": "code",
   "execution_count": 17,
   "id": "103fae7d-c945-40de-9b55-544cf19861a0",
   "metadata": {},
   "outputs": [],
   "source": [
    "linreg=LinearRegression()"
   ]
  },
  {
   "cell_type": "code",
   "execution_count": 18,
   "id": "4e1efd55-67ee-421b-bc43-1353741601ef",
   "metadata": {},
   "outputs": [
    {
     "data": {
      "text/plain": [
       "LinearRegression()"
      ]
     },
     "execution_count": 18,
     "metadata": {},
     "output_type": "execute_result"
    }
   ],
   "source": [
    "linreg.fit(lcn_train_x,lcn_train_y)"
   ]
  },
  {
   "cell_type": "code",
   "execution_count": 19,
   "id": "e85c024c-ae3e-493d-8e08-2bc1da7b03fa",
   "metadata": {},
   "outputs": [],
   "source": [
    "Rsquare=linreg.score(lcn_train_x,lcn_train_y)"
   ]
  },
  {
   "cell_type": "code",
   "execution_count": 20,
   "id": "a6f287c6-f0a4-4103-b69f-2b6719cfa88c",
   "metadata": {},
   "outputs": [
    {
     "data": {
      "text/plain": [
       "0.8548213123603734"
      ]
     },
     "execution_count": 20,
     "metadata": {},
     "output_type": "execute_result"
    }
   ],
   "source": [
    "Rsquare"
   ]
  },
  {
   "cell_type": "code",
   "execution_count": 21,
   "id": "58a4a1b6-779c-4d24-8a4d-49f2fbc88d19",
   "metadata": {},
   "outputs": [],
   "source": [
    "N=lcn_train_x.shape[0]\n",
    "K=lcn_train_x.shape[1]"
   ]
  },
  {
   "cell_type": "code",
   "execution_count": 22,
   "id": "83d2702b-bfa8-4cce-aa64-f46d473788b9",
   "metadata": {},
   "outputs": [],
   "source": [
    "Adj_Rsquare=1-((1-Rsquare)*(N-1)/(N-K-1))"
   ]
  },
  {
   "cell_type": "code",
   "execution_count": 23,
   "id": "acb28e15-6148-4290-a6b4-0d8075a1e9f1",
   "metadata": {},
   "outputs": [
    {
     "data": {
      "text/plain": [
       "0.8535566896457425"
      ]
     },
     "execution_count": 23,
     "metadata": {},
     "output_type": "execute_result"
    }
   ],
   "source": [
    "Adj_Rsquare"
   ]
  },
  {
   "cell_type": "code",
   "execution_count": 24,
   "id": "8c6159e9-75ba-4714-b6a1-21bef8be0906",
   "metadata": {},
   "outputs": [
    {
     "data": {
      "text/plain": [
       "Index(['Age', 'Height', 'Smoke', 'Gender', 'Caesarean'], dtype='object')"
      ]
     },
     "execution_count": 24,
     "metadata": {},
     "output_type": "execute_result"
    }
   ],
   "source": [
    "lcn_train_x.columns"
   ]
  },
  {
   "cell_type": "code",
   "execution_count": 25,
   "id": "2f830f24-0fd6-40ab-baa4-0e71ee880f8c",
   "metadata": {},
   "outputs": [
    {
     "data": {
      "text/plain": [
       "array([ 0.15034792,  0.27312449, -0.62667271,  0.41462994, -0.24545976])"
      ]
     },
     "execution_count": 25,
     "metadata": {},
     "output_type": "execute_result"
    }
   ],
   "source": [
    "linreg.coef_      #B1,B2,B3,B4,B5"
   ]
  },
  {
   "cell_type": "code",
   "execution_count": 26,
   "id": "c8db5050-e515-4aab-b277-dbb0784f88ac",
   "metadata": {},
   "outputs": [
    {
     "data": {
      "text/plain": [
       "-11.812211767955336"
      ]
     },
     "execution_count": 26,
     "metadata": {},
     "output_type": "execute_result"
    }
   ],
   "source": [
    "linreg.intercept_ #Bo"
   ]
  },
  {
   "cell_type": "code",
   "execution_count": 27,
   "id": "74310e56-2f74-4500-8fa7-ed0855caeeb6",
   "metadata": {},
   "outputs": [],
   "source": [
    "pred_train=linreg.predict(lcn_train_x)\n",
    "pred_test=linreg.predict(lcn_test_x)"
   ]
  },
  {
   "cell_type": "code",
   "execution_count": 28,
   "id": "18f4f5a4-30bd-477f-857c-6596dfd7730f",
   "metadata": {},
   "outputs": [
    {
     "data": {
      "text/plain": [
       "array([ 9.9323416 ,  4.11233408,  6.93920865,  6.12451948,  6.46111134,\n",
       "        5.70078818,  5.92838913, 12.43498974, 11.58371289,  7.62696308,\n",
       "       10.82355522,  5.91486235,  7.16274484,  6.7481149 , 11.39659888,\n",
       "        8.4739079 ,  5.49607425,  3.14694471, 11.67024115,  7.03961598,\n",
       "        7.49924331,  4.3851063 ,  4.43947231,  6.65724168, 10.86413556,\n",
       "        4.90430172,  5.68267048,  5.15453919,  7.73647177, 13.0493904 ,\n",
       "        7.48748904,  5.88806768,  3.01948382, 10.64589486,  8.50980394,\n",
       "        7.01230353,  6.61155265,  5.190953  ,  9.77111981,  9.5479359 ,\n",
       "        9.67148915,  8.48743468, 11.86178058,  5.67347573,  7.60823422,\n",
       "        9.63658896,  7.84103726,  9.18412498,  5.72341632,  6.46137023,\n",
       "       11.29645044,  9.69915388,  6.45226887,  8.58325109,  6.09278161,\n",
       "        8.4145987 ,  9.93551228,  4.99066449, 12.38036484,  6.47489701,\n",
       "        4.99092338,  3.45596524,  5.87402312,  8.54180069, 10.69557656,\n",
       "        9.34348087, 11.6015717 ,  5.36861336,  3.89816651,  5.87463429,\n",
       "        8.48284377,  8.97931766, 11.52873571,  4.33490682,  8.92010185,\n",
       "        7.72277949,  2.97838571,  3.44747505, 11.47879512,  9.64860212,\n",
       "        6.46553676, 10.70051975,  5.95596047,  7.59965063,  5.98795723,\n",
       "       10.21899287,  6.39825514, 11.41922702, 11.61535737,  9.21134404,\n",
       "        6.36564721, 11.53351341, 12.95427856,  5.34104203,  4.60360589,\n",
       "       11.94371793,  9.15255261,  4.20770482,  5.50730041, 10.80430858,\n",
       "        8.79697299, 12.38045823,  6.31076342,  3.66119694,  5.65526464,\n",
       "       11.73344964, 10.27236304,  4.96335204,  9.12940669, 10.87792123,\n",
       "        7.96823926, 10.98691214,  2.96954323,  5.70988954,  4.42594552,\n",
       "        9.63039103,  9.48446853,  9.90794094, 10.57748429,  3.22419775,\n",
       "        8.78318732,  9.60459221,  5.20473867,  8.92443388,  7.85430515,\n",
       "       10.71465771, 10.15375299,  4.43973119,  7.89540327, 11.50177554,\n",
       "        7.6548867 ,  3.25593562,  7.07602979,  9.29328139,  9.07603653,\n",
       "        7.85950724,  7.23973899,  9.1811198 , 10.86387667,  7.90095764,\n",
       "        9.08423543,  6.41142964, 11.39659888,  8.18647996,  2.73725797,\n",
       "        8.61047015,  8.1414742 , 10.09912809,  9.34916102,  9.94586838,\n",
       "       10.76867143,  8.61905373,  8.09101583,  3.41512601, 10.03045863,\n",
       "        5.65561692,  7.663118  ,  5.19069411, 12.0799279 ,  7.20374956,\n",
       "        3.4746941 ,  6.86195561,  9.49305212,  9.52088234,  8.44720663,\n",
       "        9.75468123,  7.21727634,  6.35186154, 11.24156666,  9.13985618,\n",
       "        6.30227323,  9.24775785,  6.92568187,  6.3859831 ,  3.27882265,\n",
       "        9.32033495,  3.21015319,  8.01136878, 10.21696147,  6.48842379,\n",
       "        9.17201844, 10.89144801,  5.47786316,  6.46553676,  9.52097574,\n",
       "        8.78318732,  5.75098766, 13.3771398 ,  9.78073895,  8.54409099,\n",
       "        6.57062003, 10.01744963, 10.4498579 ,  4.3851063 ,  2.48659612,\n",
       "        7.28568691,  5.03176261,  6.76623259, 10.10151178,  8.07306363,\n",
       "        7.68184687,  9.0565707 ,  6.24755494,  7.19880636,  9.37053443,\n",
       "        8.30660364,  5.61997978,  5.8508772 , 10.01276532, 10.33318587,\n",
       "        6.1080809 ,  7.3010796 ,  7.86818421,  9.77163759, 11.41948591,\n",
       "        4.42594552,  3.61134974,  6.15157304, 10.25857737,  5.80587144,\n",
       "        8.42812548,  7.9908674 ,  7.42199027,  7.92297461, 10.29976888,\n",
       "        7.02140489,  3.55229942,  4.46678475, 11.32870609,  5.05942734,\n",
       "        3.36050111, 11.76570528,  8.6329328 ,  6.06521027,  7.32600836,\n",
       "        6.9714643 ,  7.51302898,  9.38467238,  8.0869427 ,  5.53248806,\n",
       "        6.19505484,  8.33734566,  5.26404787, 10.90497479,  3.81189714,\n",
       "        8.90622279,  8.28281415, 10.98206233,  9.11154788,  5.71483273,\n",
       "       10.69531767, 11.47411081,  9.55313799,  5.57332729,  7.27164235,\n",
       "        3.662067  ,  3.77044674,  4.79973623,  6.93010729,  9.81373155,\n",
       "        7.32626725,  8.94732091,  4.91756961,  8.01110989, 10.93289841,\n",
       "        4.86849908,  6.13336195,  3.22862317, 12.1342939 ,  6.84852222,\n",
       "        6.93946754,  8.6874643 , 10.96870105,  8.06422116,  6.01032648,\n",
       "        5.14101241, 11.75191961, 10.03981888,  6.87574128,  6.21742409,\n",
       "        8.89712143, 11.68528156,  4.88167358,  7.42234255,  9.82626248,\n",
       "        5.76512561, 11.23298307,  2.99217137,  8.15525987, 10.53170186,\n",
       "       12.32583333, 10.06015477,  5.01381041,  1.96756619,  8.10037608,\n",
       "        9.73938194,  9.28843158,  7.06692843,  7.74540763,  2.69702991,\n",
       "        4.54898099,  9.50683778,  9.53618164,  9.94903906,  6.54799189,\n",
       "        8.7420892 ,  9.6621289 , 10.32734022,  8.09127472, 10.11378382,\n",
       "        6.98560225, 10.2598321 ,  6.32480798,  5.45497613,  8.12742964,\n",
       "       10.14022621,  9.48420964,  6.76658487,  6.33842815,  8.98790125,\n",
       "        8.70150886,  3.87978993,  8.46012223,  8.72856242,  8.33769794,\n",
       "        7.76352533,  4.37626382,  5.66905031,  9.98545287, 10.15375299,\n",
       "        8.37411175,  4.83589116,  6.78911962, 11.68350904,  9.33437951,\n",
       "        9.84837285, 10.38196511,  7.97734062,  9.96256584,  7.89540327,\n",
       "        6.8179457 ,  2.46413348,  3.55663145, 11.06884949, 10.19511   ,\n",
       "       12.08028018,  9.15849166,  9.90768205,  3.44712277,  7.3951956 ,\n",
       "        3.96631819,  9.9716672 ,  9.57524835, 10.45011679,  6.29723664,\n",
       "       10.18132433,  7.03528395,  9.07044976,  2.09034277,  5.77804122,\n",
       "        8.4145987 ,  9.64578372,  7.65136374,  8.84249653, 11.62888415,\n",
       "       10.76867143,  9.39784688,  8.86750835,  5.6739935 , 10.42245206,\n",
       "       13.65026429,  4.78595056,  3.88489862,  7.6002618 ,  8.61047015,\n",
       "        7.24484768,  8.97905877,  5.69610387, 11.09616194, 10.42722976,\n",
       "        4.27594989,  4.40331738,  4.44008348,  8.97463335,  9.72611405,\n",
       "       10.97364425,  7.81320703,  8.96553199,  9.22079768, 10.54522864,\n",
       "        6.1060495 , 10.89180029,  8.99310333,  7.2989548 , 10.98742992,\n",
       "        6.4772807 ,  3.3061351 ,  7.04845845, 10.09656858,  9.44337041,\n",
       "       11.22829877,  1.47568321, 10.27739963, 10.11317265,  7.08929768,\n",
       "        5.71457385, 10.76876483,  7.47713294, 11.1232155 , 11.00954028,\n",
       "        5.12748563,  3.82481275, 12.42129746,  7.96823926,  2.56818119,\n",
       "        4.95034304, 12.50314142,  2.9833289 ,  7.0231774 ,  9.71762386,\n",
       "        9.08917863,  8.22844814, 10.04007777,  8.00933737,  9.70383819,\n",
       "       11.34223287,  8.38789742, 10.40168983,  7.23089651,  7.66398806,\n",
       "        8.11832828,  8.06422116, 11.53493364,  7.85404626,  9.80046366,\n",
       "       10.68682748,  7.3535797 ,  3.88463973,  2.29531558,  8.05069438,\n",
       "        6.11125158,  7.70447501,  6.24322292, 10.38286757,  6.37917399,\n",
       "        9.53415023,  8.35061355,  4.32112115,  6.81704324, 10.34732382,\n",
       "        8.10011719,  3.22862317,  9.24749896,  9.56640588,  9.11765243,\n",
       "        8.81085205,  8.19761273,  8.18735002,  8.00465307, 11.61570965,\n",
       "        6.98056566, 10.94784543, 11.13735345,  8.16878665,  6.47932243,\n",
       "        5.72605889, 11.56957494,  7.6106179 ,  7.59913286, 12.21649014,\n",
       "        9.78667799,  5.72428638,  8.97463335,  7.9362425 , 12.0799279 ,\n",
       "       10.94607291,  6.53003969,  7.54060032,  8.85602331,  2.73735136,\n",
       "        1.88562884,  4.13903536,  4.40331738,  9.83988266,  9.48446853,\n",
       "        5.36835447,  5.7389745 , 12.23834162,  7.57233818,  7.21259203,\n",
       "        7.90043986,  8.06370338,  8.18240682, 10.34494013,  6.99903564,\n",
       "       12.38010595, 11.06884949,  7.91387325,  8.63345057,  8.02347533,\n",
       "        5.16893603,  6.86256678,  6.02879646, 12.62652916,  7.39645033,\n",
       "        9.23917427, 10.03097641,  9.70322702,  7.27190124, 11.51989324,\n",
       "        8.16878665,  4.4940972 ,  4.82678979,  3.16992513,  9.52114123,\n",
       "        8.10506039,  7.32626725,  3.50174766,  6.50256174,  5.20686346,\n",
       "        7.78615347, 11.20541174,  8.17330546,  6.26940642,  4.31678912,\n",
       "        6.82111638,  8.8977326 ,  4.90404283,  4.90581535,  7.35383859,\n",
       "       10.4084075 , 12.40273409,  8.15968529,  8.29191551, 11.23272418,\n",
       "       10.78219821,  8.3599738 ,  7.43083274,  6.98524997,  8.03700211,\n",
       "        6.15157304,  6.46631343, 11.40544135,  9.35726654,  1.01137157,\n",
       "       10.66977773,  8.96553199,  9.23865649,  6.50372309,  4.18507668,\n",
       "       11.2344967 ,  8.22818925,  5.16832486,  7.45840408, 11.61102534,\n",
       "        8.15500098,  6.42521531,  9.44045862,  9.11562102,  7.7177429 ,\n",
       "        7.4448773 ,  7.1171279 , 10.18990791,  4.60421706,  6.04496581,\n",
       "        4.54898099,  7.73673066,  5.39566692,  8.05078777,  7.6237924 ,\n",
       "        9.11587991, 10.37463627, 13.06317607,  8.00959626,  7.50418651,\n",
       "        8.377926  ,  8.48275038,  9.09715104,  8.56646024,  5.27783354])"
      ]
     },
     "execution_count": 28,
     "metadata": {},
     "output_type": "execute_result"
    }
   ],
   "source": [
    "pred_train"
   ]
  },
  {
   "cell_type": "code",
   "execution_count": 29,
   "id": "15ef5edf-cefb-4090-8c01-65c999db9363",
   "metadata": {},
   "outputs": [
    {
     "data": {
      "text/plain": [
       "array([ 6.16596988,  6.92568187,  5.41122511, 11.73319075,  5.05439075,\n",
       "        8.1464174 ,  2.66425648,  4.1119818 ,  2.84217574,  5.78298441,\n",
       "        7.3902524 ,  4.38953171,  7.22737355,  7.77262669,  8.57847339,\n",
       "       13.24057755,  6.69365549,  7.43083274,  9.26622783,  5.64173786,\n",
       "        7.87251624,  6.45252776,  6.51776764,  2.03597676,  3.95279141,\n",
       "        4.02978556, 10.92760293,  7.78589458,  4.84057546,  9.41163255,\n",
       "       10.90090165,  4.89494147, 10.74135898,  5.4638186 ,  7.63615784,\n",
       "        7.81549732,  8.03664982,  4.48551362,  2.52760085, 11.93083472,\n",
       "        9.67591457,  4.63065945,  7.88222877,  8.59694337, 10.88650481,\n",
       "       12.35305239,  4.65823079, 11.12373328,  8.8562822 ,  8.43280979,\n",
       "        5.30549827,  5.61442541,  7.40846349,  7.43109163,  5.73720199,\n",
       "        8.87926262,  7.69511476,  6.25639741,  9.30680817,  8.59642559,\n",
       "        6.91658051,  5.1231536 ,  7.77705211,  8.48726919,  8.03196552,\n",
       "       11.46500945,  6.91632162,  7.99555171,  9.9303102 ,  3.48353658,\n",
       "        7.13100697,  9.1658205 ,  7.95154179, 10.00340507,  9.07009748,\n",
       "        8.3053489 , 10.82506885,  5.20534984,  9.94409586,  9.63684785,\n",
       "       11.10677692,  8.13272512,  2.31439673,  3.93441483, 11.3284472 ,\n",
       "        9.96230695,  6.91215509, 10.50413052, 10.08065811,  6.98560225,\n",
       "       10.20847128,  7.05375393,  6.16535871,  6.49523289,  7.9562261 ,\n",
       "        7.28048482,  6.17471896,  7.02660697, 10.52321167, 10.28588982,\n",
       "        5.90107668,  6.54356647,  6.09226383,  3.1968853 ,  7.64110103,\n",
       "        2.11817299,  8.89738031,  7.48545764,  6.9036649 , 10.11291376,\n",
       "        2.81945421,  6.93981982, 10.76398713,  7.17617822,  8.6328394 ,\n",
       "        9.15707142,  6.72070905,  3.06006416, 11.47597672,  5.06826981,\n",
       "        8.03347914, 10.27678846,  6.40674533, 12.46239558,  8.31038549,\n",
       "        6.58944229,  5.93016165,  9.93525339,  9.76730556,  9.21160293,\n",
       "        7.18502069, 10.83717539,  5.47760427,  7.99642177,  8.76233169,\n",
       "        4.19860346,  8.05953685,  7.54185505, 10.0962163 ,  4.82210549,\n",
       "        8.22809586, 10.66826411,  5.11369996,  9.79895003,  7.03554284])"
      ]
     },
     "execution_count": 29,
     "metadata": {},
     "output_type": "execute_result"
    }
   ],
   "source": [
    "pred_test"
   ]
  },
  {
   "cell_type": "code",
   "execution_count": 30,
   "id": "ce265a7e-5840-463b-b4be-4f22fa91830e",
   "metadata": {},
   "outputs": [],
   "source": [
    "error_test=lcn_test_y-pred_test"
   ]
  },
  {
   "cell_type": "code",
   "execution_count": 31,
   "id": "28739d2e-f7dc-493b-989c-cc3ac4079537",
   "metadata": {},
   "outputs": [
    {
     "data": {
      "text/plain": [
       "275    1.234030\n",
       "690   -2.500682\n",
       "66    -0.036225\n",
       "373   -1.008191\n",
       "58    -0.429391\n",
       "         ...   \n",
       "31    -0.503096\n",
       "681   -0.843264\n",
       "388    0.261300\n",
       "384    1.276050\n",
       "349    1.439457\n",
       "Name: LungCap, Length: 145, dtype: float64"
      ]
     },
     "execution_count": 31,
     "metadata": {},
     "output_type": "execute_result"
    }
   ],
   "source": [
    "error_test"
   ]
  },
  {
   "cell_type": "code",
   "execution_count": 32,
   "id": "4ed10e20-cd09-47c0-a34c-59d3d46ff3c2",
   "metadata": {},
   "outputs": [],
   "source": [
    "import numpy as np"
   ]
  },
  {
   "cell_type": "code",
   "execution_count": 33,
   "id": "2b61e2b4-db07-4c67-8f4d-4263d84141ac",
   "metadata": {},
   "outputs": [
    {
     "data": {
      "text/plain": [
       "0.9363351511333223"
      ]
     },
     "execution_count": 33,
     "metadata": {},
     "output_type": "execute_result"
    }
   ],
   "source": [
    "MSE=np.mean(np.square((error_test)))\n",
    "MSE"
   ]
  },
  {
   "cell_type": "code",
   "execution_count": 34,
   "id": "9da01c64-0d1e-4a10-949a-3b6c71520e0b",
   "metadata": {},
   "outputs": [
    {
     "data": {
      "text/plain": [
       "0.9676441242178461"
      ]
     },
     "execution_count": 34,
     "metadata": {},
     "output_type": "execute_result"
    }
   ],
   "source": [
    "RMSE=np.sqrt(MSE)\n",
    "RMSE"
   ]
  },
  {
   "cell_type": "code",
   "execution_count": 35,
   "id": "18e2e05a-93ff-4134-90b7-bf5154e81d98",
   "metadata": {},
   "outputs": [
    {
     "data": {
      "text/plain": [
       "11.128630007373447"
      ]
     },
     "execution_count": 35,
     "metadata": {},
     "output_type": "execute_result"
    }
   ],
   "source": [
    "MAPE=np.mean(np.abs(error_test*100/lcn_test_y))\n",
    "MAPE"
   ]
  },
  {
   "cell_type": "code",
   "execution_count": 36,
   "id": "a43baac5-4713-42be-a6c3-fecf541c8104",
   "metadata": {},
   "outputs": [],
   "source": [
    "#lets Check the assumptions on train data"
   ]
  },
  {
   "cell_type": "code",
   "execution_count": 37,
   "id": "b4896759-e6d8-4736-be06-df9d28a36856",
   "metadata": {},
   "outputs": [],
   "source": [
    "error_train=lcn_train_y-pred_train"
   ]
  },
  {
   "cell_type": "code",
   "execution_count": 38,
   "id": "e939d5d3-5486-4a0f-bbd3-95bb6922426c",
   "metadata": {},
   "outputs": [
    {
     "data": {
      "text/plain": [
       "4.326041440780782e-15"
      ]
     },
     "execution_count": 38,
     "metadata": {},
     "output_type": "execute_result"
    }
   ],
   "source": [
    "np.mean(error_train)"
   ]
  },
  {
   "cell_type": "code",
   "execution_count": 39,
   "id": "244b9e53-fc7f-4f9b-baf1-3c3126d4bc5c",
   "metadata": {},
   "outputs": [],
   "source": [
    "import matplotlib.pyplot as plt"
   ]
  },
  {
   "cell_type": "code",
   "execution_count": 40,
   "id": "b9f16847-3e5d-4c16-875c-6d7fda744213",
   "metadata": {},
   "outputs": [
    {
     "data": {
      "text/plain": [
       "[<matplotlib.lines.Line2D at 0x21f4af09d60>]"
      ]
     },
     "execution_count": 40,
     "metadata": {},
     "output_type": "execute_result"
    },
    {
     "data": {
      "image/png": "[encoded data removed]",
      "text/plain": [
       "<Figure size 432x288 with 1 Axes>"
      ]
     },
     "metadata": {
      "needs_background": "light"
     },
     "output_type": "display_data"
    }
   ],
   "source": [
    "plt.plot(error_train,\"*\")"
   ]
  },
  {
   "cell_type": "code",
   "execution_count": 41,
   "id": "ef7d77ac-f955-45b1-84f2-49398570b91a",
   "metadata": {},
   "outputs": [
    {
     "data": {
      "text/plain": [
       "(array([ 4.,  4.,  7., 10., 15., 14., 20., 23., 30., 29., 35., 36., 30.,\n",
       "        35., 45., 43., 38., 36., 34., 21., 15., 22., 12.,  8.,  8.,  1.,\n",
       "         1.,  1.,  2.,  1.]),\n",
       " array([-2.53735345, -2.35060465, -2.16385585, -1.97710706, -1.79035826,\n",
       "        -1.60360946, -1.41686067, -1.23011187, -1.04336307, -0.85661428,\n",
       "        -0.66986548, -0.48311668, -0.29636788, -0.10961909,  0.07712971,\n",
       "         0.26387851,  0.4506273 ,  0.6373761 ,  0.8241249 ,  1.0108737 ,\n",
       "         1.19762249,  1.38437129,  1.57112009,  1.75786888,  1.94461768,\n",
       "         2.13136648,  2.31811527,  2.50486407,  2.69161287,  2.87836167,\n",
       "         3.06511046]),\n",
       " <BarContainer object of 30 artists>)"
      ]
     },
     "execution_count": 41,
     "metadata": {},
     "output_type": "execute_result"
    },
    {
     "data": {
      "image/png": "[encoded data removed]",
      "text/plain": [
       "<Figure size 432x288 with 1 Axes>"
      ]
     },
     "metadata": {
      "needs_background": "light"
     },
     "output_type": "display_data"
    }
   ],
   "source": [
    "plt.hist(error_train,bins=30,edgecolor=\"b\")"
   ]
  },
  {
   "cell_type": "code",
   "execution_count": 42,
   "id": "29bc6a2d-e6c4-4b6a-8347-829b3dd398fd",
   "metadata": {},
   "outputs": [],
   "source": [
    "pred_actual_df=pd.DataFrame()"
   ]
  },
  {
   "cell_type": "code",
   "execution_count": 43,
   "id": "f7c6b8ca-6e7e-4684-8eed-854934e06a02",
   "metadata": {},
   "outputs": [],
   "source": [
    "pred_actual_df[\"Actual\"]=lcn_train_y\n",
    "pred_actual_df[\"Predicted\"]=pred_train"
   ]
  },
  {
   "cell_type": "code",
   "execution_count": 44,
   "id": "deb1d515-d1cd-4c6c-a611-dad1f11d64ce",
   "metadata": {},
   "outputs": [
    {
     "data": {
      "text/html": [
       "<div>\n",
       "<style scoped>\n",
       "    .dataframe tbody tr th:only-of-type {\n",
       "        vertical-align: middle;\n",
       "    }\n",
       "\n",
       "    .dataframe tbody tr th {\n",
       "        vertical-align: top;\n",
       "    }\n",
       "\n",
       "    .dataframe thead th {\n",
       "        text-align: right;\n",
       "    }\n",
       "</style>\n",
       "<table border=\"1\" class=\"dataframe\">\n",
       "  <thead>\n",
       "    <tr style=\"text-align: right;\">\n",
       "      <th></th>\n",
       "      <th>Actual</th>\n",
       "      <th>Predicted</th>\n",
       "    </tr>\n",
       "  </thead>\n",
       "  <tbody>\n",
       "    <tr>\n",
       "      <th>29</th>\n",
       "      <td>10.475</td>\n",
       "      <td>9.932342</td>\n",
       "    </tr>\n",
       "    <tr>\n",
       "      <th>169</th>\n",
       "      <td>4.325</td>\n",
       "      <td>4.112334</td>\n",
       "    </tr>\n",
       "    <tr>\n",
       "      <th>45</th>\n",
       "      <td>6.700</td>\n",
       "      <td>6.939209</td>\n",
       "    </tr>\n",
       "    <tr>\n",
       "      <th>314</th>\n",
       "      <td>6.500</td>\n",
       "      <td>6.124519</td>\n",
       "    </tr>\n",
       "    <tr>\n",
       "      <th>592</th>\n",
       "      <td>8.025</td>\n",
       "      <td>6.461111</td>\n",
       "    </tr>\n",
       "  </tbody>\n",
       "</table>\n",
       "</div>"
      ],
      "text/plain": [
       "     Actual  Predicted\n",
       "29   10.475   9.932342\n",
       "169   4.325   4.112334\n",
       "45    6.700   6.939209\n",
       "314   6.500   6.124519\n",
       "592   8.025   6.461111"
      ]
     },
     "execution_count": 44,
     "metadata": {},
     "output_type": "execute_result"
    }
   ],
   "source": [
    "pred_actual_df.head()"
   ]
  },
  {
   "cell_type": "code",
   "execution_count": 45,
   "id": "71902316-56bc-4426-a492-b90e3f119027",
   "metadata": {},
   "outputs": [],
   "source": [
    "import seaborn as sns"
   ]
  },
  {
   "cell_type": "code",
   "execution_count": 46,
   "id": "8615e410-7850-4a86-a02d-866809a94087",
   "metadata": {},
   "outputs": [
    {
     "data": {
      "text/plain": [
       "<seaborn.axisgrid.JointGrid at 0x21f4af2fb50>"
      ]
     },
     "execution_count": 46,
     "metadata": {},
     "output_type": "execute_result"
    },
    {
     "data": {
      "image/png": "[encoded data removed]",
      "text/plain": [
       "<Figure size 432x432 with 3 Axes>"
      ]
     },
     "metadata": {
      "needs_background": "light"
     },
     "output_type": "display_data"
    }
   ],
   "source": [
    "sns.jointplot(x=\"Actual\",y=\"Predicted\",data=pred_actual_df, kind=\"reg\")"
   ]
  },
  {
   "cell_type": "code",
   "execution_count": 51,
   "id": "960439e0-0d4c-48d3-b18a-0a19ddf85787",
   "metadata": {},
   "outputs": [],
   "source": [
    "#Program to remove outliers\n",
    "def remove_outliers(df,col,k):\n",
    "    mean=df[col].mean()\n",
    "    global df1\n",
    "    std=df[col].std()\n",
    "    final_list=[x for x in df[col] if ((x>mean-k*std) and (x<mean+k*std))]\n",
    "    df1=df.loc[df[col].isin(final_list)];\n",
    "    print(df1.shape)\n",
    "    print(\"Numbers of Outliers removed-->\",df.shape[0]-df1.shape[0])\n"
   ]
  },
  {
   "cell_type": "code",
   "execution_count": 52,
   "id": "53ba27b2-919e-4ecc-a8a1-95b8f7543836",
   "metadata": {},
   "outputs": [
    {
     "name": "stdout",
     "output_type": "stream",
     "text": [
      "(695, 6)\n",
      "Numbers of Outliers removed--> 30\n"
     ]
    }
   ],
   "source": [
    "remove_outliers(lcn,\"LungCap\",2)"
   ]
  },
  {
   "cell_type": "code",
   "execution_count": null,
   "id": "4b62bf57-043f-455d-8e93-98a089590f0e",
   "metadata": {},
   "outputs": [],
   "source": []
  }
 ],
 "metadata": {
  "kernelspec": {
   "display_name": "Python 3",
   "language": "python",
   "name": "python3"
  },
  "language_info": {
   "codemirror_mode": {
    "name": "ipython",
    "version": 3
   },
   "file_extension": ".py",
   "mimetype": "text/x-python",
   "name": "python",
   "nbconvert_exporter": "python",
   "pygments_lexer": "ipython3",
   "version": "3.9.12"
  }
 },
 "nbformat": 4,
 "nbformat_minor": 5
}
